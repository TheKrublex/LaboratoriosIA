{
  "nbformat": 4,
  "nbformat_minor": 0,
  "metadata": {
    "colab": {
      "provenance": []
    },
    "kernelspec": {
      "name": "python3",
      "display_name": "Python 3"
    },
    "language_info": {
      "name": "python"
    }
  },
  "cells": [
    {
      "cell_type": "code",
      "execution_count": null,
      "metadata": {
        "id": "PC5wJTG-tZg9"
      },
      "outputs": [],
      "source": [
        "# Importamos las bibliotecas necesarias para ejecutar el programa\n",
        "\n",
        "import pandas as pd\n",
        "import numpy as np\n",
        "import matplotlib.pyplot as plt\n",
        "import random\n",
        "import math"
      ]
    },
    {
      "cell_type": "code",
      "source": [
        "# Generamos el set de datos aleatorio\n",
        "\n",
        "peso = []\n",
        "altura = []\n",
        "\n",
        "for i in range(100000):\n",
        "  altura.append(random.uniform(1.15, 1.45))\n",
        "  peso.append(random.randint(25,40))\n",
        "\n",
        "data = pd.DataFrame({'Altura':altura, 'Peso':peso})\n",
        "# data = pd.DataFrame({'Altura':[1.25,1.28,1.27,1.21,1.22,1.29,1.3,1.24,1.27,1.29,1.25,1.28,1.27,1.21,1.22,1.29,1.3,1.24,1.27,1.29,1.25,1.28,1.27,1.21,1.22,1.29,1.3,1.24,1.27,1.29], 'Peso':[32,33,34,30,32,35,34,32,32,35,33,35,34,30,33,34,35,32,33,33,33,34,34,31,32,34,34,31,35,34]})\n",
        "print(data)"
      ],
      "metadata": {
        "colab": {
          "base_uri": "https://localhost:8080/"
        },
        "id": "ou6YXTsM8c-u",
        "outputId": "86932456-1c97-4008-d934-d84608273f67"
      },
      "execution_count": null,
      "outputs": [
        {
          "output_type": "stream",
          "name": "stdout",
          "text": [
            "      Altura  Peso\n",
            "0   1.312582    38\n",
            "1   1.225305    31\n",
            "2   1.439837    29\n",
            "3   1.165496    31\n",
            "4   1.347031    39\n",
            "..       ...   ...\n",
            "95  1.321230    34\n",
            "96  1.331739    35\n",
            "97  1.422084    25\n",
            "98  1.411644    36\n",
            "99  1.270850    33\n",
            "\n",
            "[100 rows x 2 columns]\n"
          ]
        }
      ]
    },
    {
      "cell_type": "code",
      "source": [
        "# Algoritmo de regresion lineal visto en clase\n",
        "\n",
        "def getB(data, xm, ym):\n",
        "  p1 = 0\n",
        "  p2 = 0\n",
        "  for i in range(len(data)):\n",
        "    p1 += (data.iloc[i]['Altura'] - xm) * (data.iloc[i]['Peso'] - ym)\n",
        "    p2 += (data.iloc[i]['Altura'] - xm)**2\n",
        "  return p1/p2\n",
        "\n",
        "def algoritmo(a, b, x):\n",
        "  y = a + b * x\n",
        "  return y\n",
        "\n",
        "xm = np.sum(data.Altura)/data.shape[0]\n",
        "ym = np.sum(data.Peso)/data.shape[0]\n",
        "\n",
        "b = getB(data, xm, ym)\n",
        "a = ym - (b * xm)\n",
        "\n",
        "print(algoritmo(a, b, 1.27))"
      ],
      "metadata": {
        "colab": {
          "base_uri": "https://localhost:8080/"
        },
        "id": "x4StHsXN-9nb",
        "outputId": "41cc655a-7e0b-4430-f102-77d64c8a63a8"
      },
      "execution_count": null,
      "outputs": [
        {
          "output_type": "stream",
          "name": "stdout",
          "text": [
            "32.41720207769999\n"
          ]
        }
      ]
    },
    {
      "cell_type": "code",
      "source": [
        "# Indice de correlación lineal de Pearson\n",
        "\n",
        "# A) Este indice indica la relación entre dos variables, en este caso la \n",
        "# variable de altura y la de peso. Se obtiene dividiendo la covarianza de las \n",
        "# variables (p1) entre la raíz cuadrada del producto de sus varianzas (p2 y p3).\n",
        "\n",
        "# B)\n",
        "def getPearson(data, xm, ym):\n",
        "  p1 = 0\n",
        "  p2 = 0\n",
        "  p3 = 0\n",
        "  for i in range(len(data)):\n",
        "    p1 += (data.iloc[i]['Altura'] - xm) * (data.iloc[i]['Peso'] - ym)\n",
        "    p2 += (data.iloc[i]['Altura'] - xm)**2\n",
        "    p3 += (data.iloc[i]['Peso'] - ym)**2\n",
        "  return p1/math.sqrt(p2*p3)\n",
        "\n",
        "print(getPearson(data, xm, ym))\n",
        "\n",
        "# C) Para estos datos si existe una correlación lineal porque el indice es \n",
        "# diferente de 0, la relación entre ambas variables es positiva. \n",
        "# Cuanto más cerca esté el valor de 1 más fuerte es la relación entre \n",
        "# las variables. En este caso, una variable tiende a incrementar su valor \n",
        "# cuando la otra también aumenta. "
      ],
      "metadata": {
        "id": "v0kaUSNrNxi0",
        "colab": {
          "base_uri": "https://localhost:8080/"
        },
        "outputId": "37732844-bd21-464f-b754-5c9484764c38"
      },
      "execution_count": null,
      "outputs": [
        {
          "output_type": "stream",
          "name": "stdout",
          "text": [
            "-0.14500526437725175\n"
          ]
        }
      ]
    },
    {
      "cell_type": "code",
      "source": [
        "# Gráfique en 2D las observaciones\n",
        "\n",
        "data.plot.scatter(x='Altura', y='Peso')\n",
        "plt.xlabel('Altura')\n",
        "plt.ylabel('Peso')\n",
        "plt.show()"
      ],
      "metadata": {
        "colab": {
          "base_uri": "https://localhost:8080/",
          "height": 279
        },
        "id": "9YlJQtX4N1s8",
        "outputId": "8e70a049-2729-4c71-94eb-d3a19b4c6912"
      },
      "execution_count": null,
      "outputs": [
        {
          "output_type": "display_data",
          "data": {
            "text/plain": [
              "<Figure size 432x288 with 1 Axes>"
            ],
            "image/png": "[encoded data removed]"
          },
          "metadata": {
            "needs_background": "light"
          }
        }
      ]
    },
    {
      "cell_type": "code",
      "source": [
        "# Gráfique en 2D todas las observaciones y además la línea de mejor ajuste en el mismo gráfico\n",
        "\n",
        "x = [1.15, 1.45]\n",
        "y = [algoritmo(a, b, x[0]),algoritmo(a, b, x[1])]\n",
        "data.plot.scatter(x='Altura', y='Peso')\n",
        "plt.plot(x, y, 'r')\n",
        "plt.xlabel('Altura')\n",
        "plt.ylabel('Peso')\n",
        "plt.show()\n"
      ],
      "metadata": {
        "colab": {
          "base_uri": "https://localhost:8080/",
          "height": 279
        },
        "id": "seA815gQN6Wd",
        "outputId": "ae07c86a-c9d6-4ec6-aeb8-98569e9a3915"
      },
      "execution_count": null,
      "outputs": [
        {
          "output_type": "display_data",
          "data": {
            "text/plain": [
              "<Figure size 432x288 with 1 Axes>"
            ],
            "image/png": "[encoded data removed]"
          },
          "metadata": {
            "needs_background": "light"
          }
        }
      ]
    },
    {
      "cell_type": "code",
      "source": [
        "# Predicciones de 20 valores distintos donde 6 valores sean iguales al set de datos del punto 1\n",
        "                     \n",
        "altura2 = []\n",
        "altura2 = random.sample(altura, 6)\n",
        "while(len(altura2) < 20):\n",
        "  num = random.uniform(1.15, 1.45)\n",
        "  if(num not in altura2):\n",
        "    altura2.append(num)\n",
        "\n",
        "peso2 = []\n",
        "for i in altura2:\n",
        "    peso2.append(algoritmo(a, b, i))\n",
        "\n",
        "data2 = pd.DataFrame({'Altura':altura2, 'Peso':peso2})\n",
        "\n",
        "def highlight_rows(data2):\n",
        "    if data2.Altura in altura:\n",
        "        return['background-color: red']*2\n",
        "\n",
        "data2.style.apply(highlight_rows, axis = 1)"
      ],
      "metadata": {
        "id": "9I8DhvRfN-KZ",
        "colab": {
          "base_uri": "https://localhost:8080/",
          "height": 677
        },
        "outputId": "a968547a-6bb4-4071-eb9d-09e2fa7cf22e"
      },
      "execution_count": null,
      "outputs": [
        {
          "output_type": "execute_result",
          "data": {
            "text/plain": [
              "<pandas.io.formats.style.Styler at 0x7fc964febdc0>"
            ],
            "text/html": [
              "<style type=\"text/css\">\n",
              "#T_79d3d_row0_col0, #T_79d3d_row0_col1, #T_79d3d_row1_col0, #T_79d3d_row1_col1, #T_79d3d_row2_col0, #T_79d3d_row2_col1, #T_79d3d_row3_col0, #T_79d3d_row3_col1, #T_79d3d_row4_col0, #T_79d3d_row4_col1, #T_79d3d_row5_col0, #T_79d3d_row5_col1 {\n",
              "  background-color: red;\n",
              "}\n",
              "</style>\n",
              "<table id=\"T_79d3d_\" class=\"dataframe\">\n",
              "  <thead>\n",
              "    <tr>\n",
              "      <th class=\"blank level0\" >&nbsp;</th>\n",
              "      <th class=\"col_heading level0 col0\" >Altura</th>\n",
              "      <th class=\"col_heading level0 col1\" >Peso</th>\n",
              "    </tr>\n",
              "  </thead>\n",
              "  <tbody>\n",
              "    <tr>\n",
              "      <th id=\"T_79d3d_level0_row0\" class=\"row_heading level0 row0\" >0</th>\n",
              "      <td id=\"T_79d3d_row0_col0\" class=\"data row0 col0\" >1.353334</td>\n",
              "      <td id=\"T_79d3d_row0_col1\" class=\"data row0 col1\" >31.763666</td>\n",
              "    </tr>\n",
              "    <tr>\n",
              "      <th id=\"T_79d3d_level0_row1\" class=\"row_heading level0 row1\" >1</th>\n",
              "      <td id=\"T_79d3d_row1_col0\" class=\"data row1 col0\" >1.353692</td>\n",
              "      <td id=\"T_79d3d_row1_col1\" class=\"data row1 col1\" >31.760855</td>\n",
              "    </tr>\n",
              "    <tr>\n",
              "      <th id=\"T_79d3d_level0_row2\" class=\"row_heading level0 row2\" >2</th>\n",
              "      <td id=\"T_79d3d_row2_col0\" class=\"data row2 col0\" >1.439837</td>\n",
              "      <td id=\"T_79d3d_row2_col1\" class=\"data row2 col1\" >31.085269</td>\n",
              "    </tr>\n",
              "    <tr>\n",
              "      <th id=\"T_79d3d_level0_row3\" class=\"row_heading level0 row3\" >3</th>\n",
              "      <td id=\"T_79d3d_row3_col0\" class=\"data row3 col0\" >1.448270</td>\n",
              "      <td id=\"T_79d3d_row3_col1\" class=\"data row3 col1\" >31.019138</td>\n",
              "    </tr>\n",
              "    <tr>\n",
              "      <th id=\"T_79d3d_level0_row4\" class=\"row_heading level0 row4\" >4</th>\n",
              "      <td id=\"T_79d3d_row4_col0\" class=\"data row4 col0\" >1.393606</td>\n",
              "      <td id=\"T_79d3d_row4_col1\" class=\"data row4 col1\" >31.447832</td>\n",
              "    </tr>\n",
              "    <tr>\n",
              "      <th id=\"T_79d3d_level0_row5\" class=\"row_heading level0 row5\" >5</th>\n",
              "      <td id=\"T_79d3d_row5_col0\" class=\"data row5 col0\" >1.169066</td>\n",
              "      <td id=\"T_79d3d_row5_col1\" class=\"data row5 col1\" >33.208765</td>\n",
              "    </tr>\n",
              "    <tr>\n",
              "      <th id=\"T_79d3d_level0_row6\" class=\"row_heading level0 row6\" >6</th>\n",
              "      <td id=\"T_79d3d_row6_col0\" class=\"data row6 col0\" >1.229790</td>\n",
              "      <td id=\"T_79d3d_row6_col1\" class=\"data row6 col1\" >32.732544</td>\n",
              "    </tr>\n",
              "    <tr>\n",
              "      <th id=\"T_79d3d_level0_row7\" class=\"row_heading level0 row7\" >7</th>\n",
              "      <td id=\"T_79d3d_row7_col0\" class=\"data row7 col0\" >1.325430</td>\n",
              "      <td id=\"T_79d3d_row7_col1\" class=\"data row7 col1\" >31.982495</td>\n",
              "    </tr>\n",
              "    <tr>\n",
              "      <th id=\"T_79d3d_level0_row8\" class=\"row_heading level0 row8\" >8</th>\n",
              "      <td id=\"T_79d3d_row8_col0\" class=\"data row8 col0\" >1.439821</td>\n",
              "      <td id=\"T_79d3d_row8_col1\" class=\"data row8 col1\" >31.085397</td>\n",
              "    </tr>\n",
              "    <tr>\n",
              "      <th id=\"T_79d3d_level0_row9\" class=\"row_heading level0 row9\" >9</th>\n",
              "      <td id=\"T_79d3d_row9_col0\" class=\"data row9 col0\" >1.419454</td>\n",
              "      <td id=\"T_79d3d_row9_col1\" class=\"data row9 col1\" >31.245124</td>\n",
              "    </tr>\n",
              "    <tr>\n",
              "      <th id=\"T_79d3d_level0_row10\" class=\"row_heading level0 row10\" >10</th>\n",
              "      <td id=\"T_79d3d_row10_col0\" class=\"data row10 col0\" >1.262163</td>\n",
              "      <td id=\"T_79d3d_row10_col1\" class=\"data row10 col1\" >32.478666</td>\n",
              "    </tr>\n",
              "    <tr>\n",
              "      <th id=\"T_79d3d_level0_row11\" class=\"row_heading level0 row11\" >11</th>\n",
              "      <td id=\"T_79d3d_row11_col0\" class=\"data row11 col0\" >1.261785</td>\n",
              "      <td id=\"T_79d3d_row11_col1\" class=\"data row11 col1\" >32.481624</td>\n",
              "    </tr>\n",
              "    <tr>\n",
              "      <th id=\"T_79d3d_level0_row12\" class=\"row_heading level0 row12\" >12</th>\n",
              "      <td id=\"T_79d3d_row12_col0\" class=\"data row12 col0\" >1.371384</td>\n",
              "      <td id=\"T_79d3d_row12_col1\" class=\"data row12 col1\" >31.622108</td>\n",
              "    </tr>\n",
              "    <tr>\n",
              "      <th id=\"T_79d3d_level0_row13\" class=\"row_heading level0 row13\" >13</th>\n",
              "      <td id=\"T_79d3d_row13_col0\" class=\"data row13 col0\" >1.156453</td>\n",
              "      <td id=\"T_79d3d_row13_col1\" class=\"data row13 col1\" >33.307687</td>\n",
              "    </tr>\n",
              "    <tr>\n",
              "      <th id=\"T_79d3d_level0_row14\" class=\"row_heading level0 row14\" >14</th>\n",
              "      <td id=\"T_79d3d_row14_col0\" class=\"data row14 col0\" >1.301020</td>\n",
              "      <td id=\"T_79d3d_row14_col1\" class=\"data row14 col1\" >32.173934</td>\n",
              "    </tr>\n",
              "    <tr>\n",
              "      <th id=\"T_79d3d_level0_row15\" class=\"row_heading level0 row15\" >15</th>\n",
              "      <td id=\"T_79d3d_row15_col0\" class=\"data row15 col0\" >1.153138</td>\n",
              "      <td id=\"T_79d3d_row15_col1\" class=\"data row15 col1\" >33.333683</td>\n",
              "    </tr>\n",
              "    <tr>\n",
              "      <th id=\"T_79d3d_level0_row16\" class=\"row_heading level0 row16\" >16</th>\n",
              "      <td id=\"T_79d3d_row16_col0\" class=\"data row16 col0\" >1.309809</td>\n",
              "      <td id=\"T_79d3d_row16_col1\" class=\"data row16 col1\" >32.105004</td>\n",
              "    </tr>\n",
              "    <tr>\n",
              "      <th id=\"T_79d3d_level0_row17\" class=\"row_heading level0 row17\" >17</th>\n",
              "      <td id=\"T_79d3d_row17_col0\" class=\"data row17 col0\" >1.428594</td>\n",
              "      <td id=\"T_79d3d_row17_col1\" class=\"data row17 col1\" >31.173442</td>\n",
              "    </tr>\n",
              "    <tr>\n",
              "      <th id=\"T_79d3d_level0_row18\" class=\"row_heading level0 row18\" >18</th>\n",
              "      <td id=\"T_79d3d_row18_col0\" class=\"data row18 col0\" >1.365994</td>\n",
              "      <td id=\"T_79d3d_row18_col1\" class=\"data row18 col1\" >31.664379</td>\n",
              "    </tr>\n",
              "    <tr>\n",
              "      <th id=\"T_79d3d_level0_row19\" class=\"row_heading level0 row19\" >19</th>\n",
              "      <td id=\"T_79d3d_row19_col0\" class=\"data row19 col0\" >1.209452</td>\n",
              "      <td id=\"T_79d3d_row19_col1\" class=\"data row19 col1\" >32.892041</td>\n",
              "    </tr>\n",
              "  </tbody>\n",
              "</table>\n"
            ]
          },
          "metadata": {},
          "execution_count": 94
        }
      ]
    }
  ]
}