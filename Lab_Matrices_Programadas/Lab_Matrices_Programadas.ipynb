{
 "cells": [
  {
   "cell_type": "code",
   "execution_count": null,
   "metadata": {
    "id": "vJfBTO4eroVM"
   },
   "outputs": [],
   "source": [
    "import torch"
   ]
  },
  {
   "cell_type": "code",
   "execution_count": null,
   "metadata": {
    "colab": {
     "base_uri": "https://localhost:8080/"
    },
    "id": "wOxj9U1jsMlD",
    "outputId": "a3beb335-98bf-49dc-bcb2-9db9e71028be"
   },
   "outputs": [
    {
     "name": "stdout",
     "output_type": "stream",
     "text": [
      "tensor(15)\n"
     ]
    }
   ],
   "source": [
    "def calcularTrazaMatriz(matriz):\n",
    "    \"\"\"\n",
    "    Calcula la traza de una matriz usando PyTorch.\n",
    "\n",
    "    Argumentos:\n",
    "    matriz -- un tensor de PyTorch de dimensiones (n, n)\n",
    "\n",
    "    Retorna:\n",
    "    traza -- un escalar que representa la traza de la matriz\n",
    "    \"\"\"\n",
    "    diagonal = torch.diagonal(matriz)\n",
    "    traza = torch.sum(diagonal)\n",
    "    return traza\n",
    "\n",
    "# Crear una matriz de ejemplo\n",
    "matriz = torch.tensor([[1, 2, 3], [4, 5, 6], [7, 8, 9]])\n",
    "\n",
    "# Calcular la traza de la matriz\n",
    "traza = calcularTrazaMatriz(matriz)\n",
    "\n",
    "# Imprimir la traza\n",
    "print(traza)"
   ]
  },
  {
   "cell_type": "code",
   "execution_count": null,
   "metadata": {
    "colab": {
     "base_uri": "https://localhost:8080/"
    },
    "id": "vq-uxBR_sRSy",
    "outputId": "087c6204-08e6-4660-8523-169a6dbd698f"
   },
   "outputs": [
    {
     "name": "stdout",
     "output_type": "stream",
     "text": [
      "tensor([[1, 4, 7],\n",
      "        [2, 5, 8],\n",
      "        [3, 6, 9]])\n"
     ]
    }
   ],
   "source": [
    "def traspuesta(matriz):\n",
    "    return torch.tensor(list(map(list, zip(*matriz))))\n",
    "\n",
    "# Crear una matriz de ejemplo\n",
    "matriz = torch.tensor([[1, 2, 3], [4, 5, 6], [7, 8, 9]])\n",
    "\n",
    "# Calcular la transpuesta de la matriz\n",
    "mTras = traspuesta(matriz)\n",
    "\n",
    "# Imprimir la transpuesta\n",
    "print(mTras)"
   ]
  },
  {
   "cell_type": "code",
   "execution_count": null,
   "metadata": {
    "colab": {
     "base_uri": "https://localhost:8080/"
    },
    "id": "YL697H_BuSPB",
    "outputId": "65c44cca-f822-49a4-fdab-8f834832cf6c"
   },
   "outputs": [
    {
     "name": "stdout",
     "output_type": "stream",
     "text": [
      "tensor([[-5.0000, -6.0000,  4.0000],\n",
      "        [-7.0000, -9.0000,  6.0000],\n",
      "        [-1.0000, -1.0000,  1.0000]])\n"
     ]
    }
   ],
   "source": [
    "# FALTA ESTA FUNCION\n",
    "def adjunta(A):\n",
    "  # Obtener el tamaño de la matriz\n",
    "  n = A.shape[0]\n",
    "\n",
    "  # Inicializar la matriz de cofactores\n",
    "  C = torch.zeros(n, n)\n",
    "\n",
    "  # Calcular los cofactores\n",
    "  for i in range(n):\n",
    "    for j in range(n):\n",
    "      # Obtener la submatriz eliminando la fila i y la columna j\n",
    "      A_ij = torch.cat((A[:i], A[i+1:]))\n",
    "      A_ij = torch.cat((A_ij[:, :j], A_ij[:, j+1:]), dim=1)\n",
    "      \n",
    "      # Calcular el cofactor C_ij\n",
    "      C_ij = ((-1)**(i+j)) * torch.det(A_ij.float())\n",
    "      \n",
    "      # Almacenar el cofactor en la matriz de cofactores\n",
    "      C[i,j] = C_ij\n",
    "\n",
    "  # Calcular la adjunta de la matriz\n",
    "  adj_A = torch.transpose(C, 0, 1)\n",
    "  return adj_A\n",
    "\n",
    "# Crear una matriz de ejemplo\n",
    "matriz = torch.tensor([[-3, 2, 0], [1, -1, 2], [-2, 1, 3]])\n",
    "\n",
    "# Calcular la matriz adjunta\n",
    "mAdj = adjunta(matriz)\n",
    "\n",
    "# Imprimir la matriz adjunta\n",
    "print(mAdj)"
   ]
  },
  {
   "cell_type": "code",
   "execution_count": null,
   "metadata": {
    "colab": {
     "base_uri": "https://localhost:8080/"
    },
    "id": "T-rg6lqUxibJ",
    "outputId": "db5179ed-54e1-4fa3-853b-843a23e35b81"
   },
   "outputs": [
    {
     "name": "stdout",
     "output_type": "stream",
     "text": [
      "tensor([[ 0.0000,  0.3333, -0.0000],\n",
      "        [-1.0000, -1.0000,  1.0000],\n",
      "        [ 1.0000, -0.6667,  0.0000]])\n"
     ]
    }
   ],
   "source": [
    "def inversa(matriz):\n",
    "  adj = adjunta(matriz)\n",
    "  tras = traspuesta(adj)\n",
    "  det = torch.det(matriz.float())\n",
    "  return traspuesta(tras/det)\n",
    "\n",
    "# Crear una matriz ejemplo\n",
    "matriz = torch.tensor([[2, 0, 1], [3, 0, 0], [5, 1, 1]])\n",
    "\n",
    "# Calcular la matriz inversa\n",
    "mInv = inversa(matriz)\n",
    "\n",
    "# Imprimir la matriz inversa\n",
    "print(mInv)"
   ]
  },
  {
   "cell_type": "code",
   "execution_count": null,
   "metadata": {
    "colab": {
     "base_uri": "https://localhost:8080/"
    },
    "id": "l8RF4JQrzaTA",
    "outputId": "b8bdfc2c-8eb9-40fd-b710-5a013c98fc41"
   },
   "outputs": [
    {
     "name": "stdout",
     "output_type": "stream",
     "text": [
      "tensor([ 6.0000,  7.3333,  7.6667, 11.0000])\n",
      "tensor([[28.0000, 14.0000, -9.0000, -5.0000],\n",
      "        [14.0000,  9.3333,  0.6667,  4.0000],\n",
      "        [-9.0000,  0.6667, 14.3333, 16.0000],\n",
      "        [-5.0000,  4.0000, 16.0000, 19.0000]])\n"
     ]
    }
   ],
   "source": [
    "def covarianza(matriz):\n",
    "    # Media de cada columna\n",
    "    mean = torch.mean(matriz, dim=0)\n",
    "    print(mean)\n",
    "\n",
    "    # Cantidad de columnas = número de muestras\n",
    "    n_samples = matriz.shape[0]\n",
    "\n",
    "    #Cov(matriz) = 1/(n-1) * (matriz - mean(matriz))ᵀ * (matriz - mean(matriz))\n",
    "    # La función utiliza el método T para transponer la matriz (matriz - mean) y el método mm para realizar la multiplicación de matrices.\n",
    "\n",
    "    meanMatriz = matriz - mean\n",
    "    cov = torch.mm(meanMatriz.T, meanMatriz) / (n_samples - 1)\n",
    "    \n",
    "    return cov\n",
    "\n",
    "# Crear una matriz de ejemplo\n",
    "matriz = torch.tensor([[2., 4., 6., 8.], [4., 8., 12., 16.], [12., 10., 5., 9.]])\n",
    "\n",
    "# Calcular la covarianza\n",
    "covarianza = covarianza(matriz)\n",
    "\n",
    "# Imprimir la covarianza\n",
    "print(covarianza)"
   ]
  },
  {
   "cell_type": "code",
   "execution_count": null,
   "metadata": {
    "id": "hM0_jDXDA_8X"
   },
   "outputs": [],
   "source": []
  }
 ],
 "metadata": {
  "colab": {
   "provenance": []
  },
  "kernelspec": {
   "display_name": "Python 3 (ipykernel)",
   "language": "python",
   "name": "python3"
  },
  "language_info": {
   "codemirror_mode": {
    "name": "ipython",
    "version": 3
   },
   "file_extension": ".py",
   "mimetype": "text/x-python",
   "name": "python",
   "nbconvert_exporter": "python",
   "pygments_lexer": "ipython3",
   "version": "3.11.2"
  }
 },
 "nbformat": 4,
 "nbformat_minor": 1
}
