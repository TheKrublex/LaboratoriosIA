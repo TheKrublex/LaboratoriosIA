{
 "cells": [
  {
   "cell_type": "code",
   "execution_count": null,
   "metadata": {
    "id": "da8OT2lmViAY"
   },
   "outputs": [],
   "source": [
    "import pandas as pd\n",
    "import numpy as np\n",
    "import math"
   ]
  },
  {
   "cell_type": "code",
   "execution_count": null,
   "metadata": {
    "colab": {
     "base_uri": "https://localhost:8080/",
     "height": 424
    },
    "id": "avGUd_s7cOE7",
    "outputId": "c52caab5-5af7-40af-9765-bd5317e7bf06"
   },
   "outputs": [
    {
     "data": {
      "text/html": [
       "\n",
       "  <div id=\"df-56c522f5-5040-4968-aa7e-d10d81119320\">\n",
       "    <div class=\"colab-df-container\">\n",
       "      <div>\n",
       "<style scoped>\n",
       "    .dataframe tbody tr th:only-of-type {\n",
       "        vertical-align: middle;\n",
       "    }\n",
       "\n",
       "    .dataframe tbody tr th {\n",
       "        vertical-align: top;\n",
       "    }\n",
       "\n",
       "    .dataframe thead th {\n",
       "        text-align: right;\n",
       "    }\n",
       "</style>\n",
       "<table border=\"1\" class=\"dataframe\">\n",
       "  <thead>\n",
       "    <tr style=\"text-align: right;\">\n",
       "      <th></th>\n",
       "      <th>ap_hi</th>\n",
       "      <th>cardio</th>\n",
       "    </tr>\n",
       "  </thead>\n",
       "  <tbody>\n",
       "    <tr>\n",
       "      <th>0</th>\n",
       "      <td>110</td>\n",
       "      <td>0</td>\n",
       "    </tr>\n",
       "    <tr>\n",
       "      <th>1</th>\n",
       "      <td>140</td>\n",
       "      <td>1</td>\n",
       "    </tr>\n",
       "    <tr>\n",
       "      <th>2</th>\n",
       "      <td>130</td>\n",
       "      <td>1</td>\n",
       "    </tr>\n",
       "    <tr>\n",
       "      <th>3</th>\n",
       "      <td>150</td>\n",
       "      <td>1</td>\n",
       "    </tr>\n",
       "    <tr>\n",
       "      <th>4</th>\n",
       "      <td>100</td>\n",
       "      <td>0</td>\n",
       "    </tr>\n",
       "    <tr>\n",
       "      <th>...</th>\n",
       "      <td>...</td>\n",
       "      <td>...</td>\n",
       "    </tr>\n",
       "    <tr>\n",
       "      <th>995</th>\n",
       "      <td>110</td>\n",
       "      <td>0</td>\n",
       "    </tr>\n",
       "    <tr>\n",
       "      <th>996</th>\n",
       "      <td>120</td>\n",
       "      <td>1</td>\n",
       "    </tr>\n",
       "    <tr>\n",
       "      <th>997</th>\n",
       "      <td>140</td>\n",
       "      <td>1</td>\n",
       "    </tr>\n",
       "    <tr>\n",
       "      <th>998</th>\n",
       "      <td>150</td>\n",
       "      <td>1</td>\n",
       "    </tr>\n",
       "    <tr>\n",
       "      <th>999</th>\n",
       "      <td>120</td>\n",
       "      <td>1</td>\n",
       "    </tr>\n",
       "  </tbody>\n",
       "</table>\n",
       "<p>1000 rows × 2 columns</p>\n",
       "</div>\n",
       "      <button class=\"colab-df-convert\" onclick=\"convertToInteractive('df-56c522f5-5040-4968-aa7e-d10d81119320')\"\n",
       "              title=\"Convert this dataframe to an interactive table.\"\n",
       "              style=\"display:none;\">\n",
       "        \n",
       "  <svg xmlns=\"http://www.w3.org/2000/svg\" height=\"24px\"viewBox=\"0 0 24 24\"\n",
       "       width=\"24px\">\n",
       "    <path d=\"M0 0h24v24H0V0z\" fill=\"none\"/>\n",
       "    <path d=\"M18.56 5.44l.94 2.06.94-2.06 2.06-.94-2.06-.94-.94-2.06-.94 2.06-2.06.94zm-11 1L8.5 8.5l.94-2.06 2.06-.94-2.06-.94L8.5 2.5l-.94 2.06-2.06.94zm10 10l.94 2.06.94-2.06 2.06-.94-2.06-.94-.94-2.06-.94 2.06-2.06.94z\"/><path d=\"M17.41 7.96l-1.37-1.37c-.4-.4-.92-.59-1.43-.59-.52 0-1.04.2-1.43.59L10.3 9.45l-7.72 7.72c-.78.78-.78 2.05 0 2.83L4 21.41c.39.39.9.59 1.41.59.51 0 1.02-.2 1.41-.59l7.78-7.78 2.81-2.81c.8-.78.8-2.07 0-2.86zM5.41 20L4 18.59l7.72-7.72 1.47 1.35L5.41 20z\"/>\n",
       "  </svg>\n",
       "      </button>\n",
       "      \n",
       "  <style>\n",
       "    .colab-df-container {\n",
       "      display:flex;\n",
       "      flex-wrap:wrap;\n",
       "      gap: 12px;\n",
       "    }\n",
       "\n",
       "    .colab-df-convert {\n",
       "      background-color: #E8F0FE;\n",
       "      border: none;\n",
       "      border-radius: 50%;\n",
       "      cursor: pointer;\n",
       "      display: none;\n",
       "      fill: #1967D2;\n",
       "      height: 32px;\n",
       "      padding: 0 0 0 0;\n",
       "      width: 32px;\n",
       "    }\n",
       "\n",
       "    .colab-df-convert:hover {\n",
       "      background-color: #E2EBFA;\n",
       "      box-shadow: 0px 1px 2px rgba(60, 64, 67, 0.3), 0px 1px 3px 1px rgba(60, 64, 67, 0.15);\n",
       "      fill: #174EA6;\n",
       "    }\n",
       "\n",
       "    [theme=dark] .colab-df-convert {\n",
       "      background-color: #3B4455;\n",
       "      fill: #D2E3FC;\n",
       "    }\n",
       "\n",
       "    [theme=dark] .colab-df-convert:hover {\n",
       "      background-color: #434B5C;\n",
       "      box-shadow: 0px 1px 3px 1px rgba(0, 0, 0, 0.15);\n",
       "      filter: drop-shadow(0px 1px 2px rgba(0, 0, 0, 0.3));\n",
       "      fill: #FFFFFF;\n",
       "    }\n",
       "  </style>\n",
       "\n",
       "      <script>\n",
       "        const buttonEl =\n",
       "          document.querySelector('#df-56c522f5-5040-4968-aa7e-d10d81119320 button.colab-df-convert');\n",
       "        buttonEl.style.display =\n",
       "          google.colab.kernel.accessAllowed ? 'block' : 'none';\n",
       "\n",
       "        async function convertToInteractive(key) {\n",
       "          const element = document.querySelector('#df-56c522f5-5040-4968-aa7e-d10d81119320');\n",
       "          const dataTable =\n",
       "            await google.colab.kernel.invokeFunction('convertToInteractive',\n",
       "                                                     [key], {});\n",
       "          if (!dataTable) return;\n",
       "\n",
       "          const docLinkHtml = 'Like what you see? Visit the ' +\n",
       "            '<a target=\"_blank\" href=https://colab.research.google.com/notebooks/data_table.ipynb>data table notebook</a>'\n",
       "            + ' to learn more about interactive tables.';\n",
       "          element.innerHTML = '';\n",
       "          dataTable['output_type'] = 'display_data';\n",
       "          await google.colab.output.renderOutput(dataTable, element);\n",
       "          const docLink = document.createElement('div');\n",
       "          docLink.innerHTML = docLinkHtml;\n",
       "          element.appendChild(docLink);\n",
       "        }\n",
       "      </script>\n",
       "    </div>\n",
       "  </div>\n",
       "  "
      ],
      "text/plain": [
       "     ap_hi  cardio\n",
       "0      110       0\n",
       "1      140       1\n",
       "2      130       1\n",
       "3      150       1\n",
       "4      100       0\n",
       "..     ...     ...\n",
       "995    110       0\n",
       "996    120       1\n",
       "997    140       1\n",
       "998    150       1\n",
       "999    120       1\n",
       "\n",
       "[1000 rows x 2 columns]"
      ]
     },
     "execution_count": 130,
     "metadata": {},
     "output_type": "execute_result"
    }
   ],
   "source": [
    "# https://www.kaggle.com/datasets/thedevastator/exploring-risk-factors-for-cardiovascular-diseas\n",
    "# En este dataset nos interesa saber el estilo de vida de una persona para predecir la presencia o ausencia de una enfermedad cardiovascular\n",
    "# Variables a utilizar: Presion sistolica, presencia o ausencia de una enfermedad cardiovascular\n",
    "data = pd.read_csv('./heart_data.csv').head(1000)\n",
    "data[['ap_hi','cardio']]"
   ]
  },
  {
   "cell_type": "code",
   "execution_count": null,
   "metadata": {
    "id": "m0EONlLmQ7_8"
   },
   "outputs": [],
   "source": [
    "# ALGORITMO DE REGRESION LINEAL\n",
    "def getB(data, xm, ym):\n",
    "  p1 = np.sum((data['ap_hi'] - xm) * (data['cardio'] - ym))\n",
    "  p2 = np.sum((data['ap_hi'] - xm)**2)\n",
    "  return p1/p2\n",
    "\n",
    "def algoritmoLineal(a, b, x):\n",
    "  y = a + b * x\n",
    "  return y"
   ]
  },
  {
   "cell_type": "code",
   "execution_count": null,
   "metadata": {
    "colab": {
     "base_uri": "https://localhost:8080/"
    },
    "id": "BEVJEf-Daqbh",
    "outputId": "da090b0a-00f5-42df-a1b0-97b18070555e"
   },
   "outputs": [
    {
     "name": "stdout",
     "output_type": "stream",
     "text": [
      "0.4757264817266882\n"
     ]
    }
   ],
   "source": [
    "# ALGORTITMO DE REGRESION LOGISTICA\n",
    "\n",
    "def algoritmoLogistica(data, x):\n",
    "  xm = np.sum(data['ap_hi'].to_numpy())/data.shape[0]\n",
    "  ym = np.sum(data['cardio'].to_numpy())/data.shape[0]\n",
    "  b = getB(data, xm, ym)\n",
    "  a = ym - (b * xm)\n",
    "  res = algoritmoLineal(a,b,x)\n",
    "  return 1 / (1 + math.e ** -res) \n",
    "\n",
    "# Se imprime la probabilidad (entre 0 y 1) de tener una enfermedad cardiovascular dada el set de datos y la presion sistolica\n",
    "print(algoritmoLogistica(data,80))"
   ]
  },
  {
   "cell_type": "markdown",
   "metadata": {
    "id": "b7AOZ0gTJdIZ"
   },
   "source": [
    "Incluya paso a paso la derivada parcial de la función de activación del algoritmo, es decir, la derivada parcial de la función logística de acuerdo con sus respectivas variables.\n",
    "\n",
    "La función logística se define como:\n",
    "\n",
    "$f(x) = \\frac{1}{1 + e^{-x}}$\n",
    "\n",
    "La derivada parcial de $f(x)$ con respecto a $x$ se puede calcular como:\n",
    "\n",
    "$\\frac{d f}{d x} = \\frac{d}{d x} \\frac{1}{1 + e^{-x}}$\n",
    "\n",
    "Para calcular esta derivada parcial, primero debemos usar la regla de la cadena de la derivada:\n",
    "\n",
    "$\\frac{d}{d x} \\frac{1}{1 + e^{-x}} = \\frac{d}{d u} \\frac{1}{u} \\cdot \\frac{d}{d x} (1 + e^{-x})$\n",
    "\n",
    "donde $u = 1 + e^{-x}$. La derivada parcial de $\\frac{1}{u}$ con respecto a $u$ es $-\\frac{1}{u^2}$, y la derivada parcial de $(1 + e^{-x})$ con respecto a $x$ es $-e^{-x}$. Entonces, sustituyendo y simplificando, obtenemos:\n",
    "\n",
    "$\\frac{d f}{d x} = -\\frac{1}{(1 + e^{-x})^2} \\cdot (-e^{-x})$\n",
    "\n",
    "Finalmente, simplificando un poco más, obtenemos:\n",
    "\n",
    "$\\frac{d f}{d x} = \\frac{e^{-x}}{(1 + e^{-x})^2}$\n",
    "\n",
    "Por lo tanto, la derivada parcial de $f(x)$ con respecto a $x$ es $\\frac{e^{-x}}{(1 + e^{-x})^2}$."
   ]
  },
  {
   "cell_type": "markdown",
   "metadata": {
    "id": "kZfPC3PTLM1U"
   },
   "source": [
    "Conclusiones\n",
    "\n",
    "En este lab pudimos notar más claramente las capacidades del algoritmo de regresión logística para predecir. \n",
    "\n",
    "1. Resultó bastante útil para predecir la probabilidad de tener una enfermedad cardiovascular para el set de datos tomando en cuenta una presión sistólica de 80, dándonos una probabilidad de 47,57%, una probabilidad baja y que si probamos con otros valores la probabilidad de riesgo se volvería más grave en presiones de 90 o más.\n",
    "\n",
    "2. Es un algoritmo que puede generar predicciones más exactas entre más datos analice y es muy útil para predecir factores de riesgo para saber si es probable que las situaciones sucedan o no. Una de las grandes razones por la cuales es muy útil en el campo de la medicina.\n",
    "\n",
    "3. Un algoritmo simple, pero verdaderamente eficiente además de que no necesita muchos recursos. Nos ayudó un poco más a entender porque es un algoritmo bastante usado.\n",
    "\n",
    "4. Depende mucho de que tenga las variables necesarias para predecir el resultado por lo que si no cuenta con todas las variables podría retornar predicciones sin valor.\n",
    "\n",
    "5. Al ser un algoritmo lineal, sería buena idea antes de usar este algoritmo, verificar con alguna función el coeficiente de correlación de los datos para saber si tienen un comportamiento lineal, de lo contrario podríamos buscar otras alternativas porque los datos podrían no ser tan acertados. \n",
    "\n",
    "6. La derivada parcial de la función logística es importante en el algoritmo de regresión logística ya que se utiliza en la actualización de los parámetros del modelo mediante la técnica de descenso del gradiente.\n",
    "\n",
    "7. La derivada parcial de la función logística también es importante para interpretar el comportamiento del modelo. En particular, se puede observar que esta derivada es positiva cuando $x < 0$ y negativa cuando $x > 0$, lo que significa que la pendiente de la función logística es más empinada en los extremos de su rango. Esto implica que el modelo será más sensible a los cambios en la variable de entrada cuando ésta se encuentre cerca de los extremos del rango de valores."
   ]
  }
 ],
 "metadata": {
  "colab": {
   "provenance": []
  },
  "kernelspec": {
   "display_name": "Python 3 (ipykernel)",
   "language": "python",
   "name": "python3"
  },
  "language_info": {
   "codemirror_mode": {
    "name": "ipython",
    "version": 3
   },
   "file_extension": ".py",
   "mimetype": "text/x-python",
   "name": "python",
   "nbconvert_exporter": "python",
   "pygments_lexer": "ipython3",
   "version": "3.10.4"
  }
 },
 "nbformat": 4,
 "nbformat_minor": 1
}
